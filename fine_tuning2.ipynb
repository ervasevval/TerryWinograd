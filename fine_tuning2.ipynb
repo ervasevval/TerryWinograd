{
  "cells": [
    {
      "cell_type": "markdown",
      "metadata": {
        "id": "view-in-github",
        "colab_type": "text"
      },
      "source": [
        "<a href=\"https://colab.research.google.com/github/ervasevval/TerryWinograd/blob/main/fine_tuning2.ipynb\" target=\"_parent\"><img src=\"https://colab.research.google.com/assets/colab-badge.svg\" alt=\"Open In Colab\"/></a>"
      ]
    },
    {
      "cell_type": "code",
      "execution_count": null,
      "metadata": {
        "id": "0PIXicGZzkmW",
        "collapsed": true
      },
      "outputs": [],
      "source": [
        "!pip install bitsandbytes\n",
        "!pip install jsonlines\n",
        "!pip install datasets\n",
        "!pip install transformers"
      ]
    },
    {
      "cell_type": "code",
      "execution_count": null,
      "metadata": {
        "id": "Y5H3y1RhzrDq"
      },
      "outputs": [],
      "source": [
        "from google.colab import drive\n",
        "drive.mount('/content/drive')"
      ]
    },
    {
      "cell_type": "code",
      "execution_count": null,
      "metadata": {
        "id": "EeDjpbQy0qmm"
      },
      "outputs": [],
      "source": [
        "data_path = '/content/drive/MyDrive/Classroom/hukuk_finetune_temizlenmis (1).jsonl'"
      ]
    },
    {
      "cell_type": "code",
      "execution_count": null,
      "metadata": {
        "id": "00D8-YZ02eY2"
      },
      "outputs": [],
      "source": [
        "import os\n",
        "\n",
        "klasor = \"/content/drive/MyDrive/Classroom\"\n",
        "print(\"Klasördeki dosyalar:\", os.listdir(klasor))"
      ]
    },
    {
      "cell_type": "code",
      "execution_count": null,
      "metadata": {
        "id": "JnGvHjht1cKP",
        "collapsed": true
      },
      "outputs": [],
      "source": [
        "print(data_path)\n",
        "with open(data_path, \"r\", encoding=\"utf-8\") as dosya:\n",
        "    for i, satir in enumerate(dosya):\n",
        "        print(f\"{i+1}. satır: {satir.strip()}\")\n",
        "        if i >= 9:  # İlk 10 satırı yazdır\n",
        "            break"
      ]
    },
    {
      "cell_type": "code",
      "source": [
        "!pip install jsonlines\n",
        "!pip install jsonline"
      ],
      "metadata": {
        "collapsed": true,
        "id": "RBuMpx8x5px7"
      },
      "execution_count": null,
      "outputs": []
    },
    {
      "cell_type": "code",
      "source": [
        "import pandas as pd\n",
        "import jsonlines  # dikkat: doğru modül ismi bu\n",
        "\n",
        "# Dosya yolu\n",
        "dosya_yolu = '/content/drive/MyDrive/Classroom/hukuk_finetune_temizlenmis (1).jsonl'\n",
        "\n",
        "# Satırları listeye al\n",
        "veri = []\n",
        "with jsonlines.open(dosya_yolu) as reader:\n",
        "    for satir in reader:\n",
        "        veri.append(satir)\n",
        "\n",
        "veri"
      ],
      "metadata": {
        "collapsed": true,
        "id": "7gXRr2mH42mj"
      },
      "execution_count": null,
      "outputs": []
    },
    {
      "cell_type": "code",
      "source": [
        "from datasets import load_dataset\n",
        "\n",
        "hf_dataset = load_dataset(\"json\", data_files='/content/drive/MyDrive/Classroom/hukuk_finetune_temizlenmis (1).jsonl', split=\"train\")"
      ],
      "metadata": {
        "id": "8hAgcmIS7E2a"
      },
      "execution_count": null,
      "outputs": []
    },
    {
      "cell_type": "code",
      "source": [
        "from transformers import AutoTokenizer, AutoModelForCausalLM\n",
        "from datasets import load_dataset\n",
        "\n",
        "# Model ve tokenizer aynı isimle uyumlu şekilde çağrılıyor\n",
        "model_name = \"deepseek-ai/DeepSeek-R1-Distill-Qwen-1.5B\"\n",
        "tokenizer = AutoTokenizer.from_pretrained(model_name)\n",
        "model = AutoModelForCausalLM.from_pretrained(model_name)\n",
        "\n",
        "# Veri kümesi yükleniyor\n",
        "dataset_path = \"/content/drive/MyDrive/Classroom/hukuk_finetune_temizlenmis (1).jsonl\"\n",
        "hf_dataset = load_dataset(\"json\", data_files=dataset_path, split=\"train\")\n",
        "\n",
        "# Tokenizasyon fonksiyonu tanımlanıyor\n",
        "def tokenize_function(example):\n",
        "    # prompt ve completion alanları kontrol ediliyor\n",
        "    prompt = example.get(\"prompt\", \"\")\n",
        "    completion = example.get(\"completion\", \"\")\n",
        "    text = prompt + completion\n",
        "\n",
        "    # Tokenizer uygulanıyor\n",
        "    return tokenizer(text, truncation=True, padding=\"max_length\", max_length=512)\n",
        "\n",
        "# Tokenizasyon uygulanıyor\n",
        "tokenized_dataset = hf_dataset.map(tokenize_function)\n"
      ],
      "metadata": {
        "collapsed": true,
        "id": "YNzNHtqv7iiS"
      },
      "execution_count": null,
      "outputs": []
    },
    {
      "cell_type": "code",
      "source": [
        "from transformers import AutoModelForCausalLM, Trainer, TrainingArguments, DataCollatorForLanguageModeling\n",
        "from peft import LoraConfig, get_peft_model\n",
        "\n",
        "model = AutoModelForCausalLM.from_pretrained(\n",
        "    model_name,\n",
        "    load_in_4bit=True,\n",
        "    device_map=\"auto\"\n",
        ")\n",
        "\n",
        "peft_config = LoraConfig(\n",
        "    r=8,\n",
        "    lora_alpha=16,\n",
        "    lora_dropout=0.1,\n",
        "    bias=\"none\",\n",
        "    task_type=\"CAUSAL_LM\"\n",
        ")\n",
        "\n",
        "model = get_peft_model(model, peft_config)\n",
        "\n",
        "data_collator = DataCollatorForLanguageModeling(tokenizer=tokenizer, mlm=False)\n",
        "\n",
        "training_args = TrainingArguments(\n",
        "    output_dir=\"./hukuk-ai\",\n",
        "    per_device_train_batch_size=2,\n",
        "    gradient_accumulation_steps=4,\n",
        "    num_train_epochs=3,\n",
        "    logging_steps=10,\n",
        "    save_steps=100,\n",
        "    save_total_limit=1,\n",
        "    learning_rate=2e-4,\n",
        "    fp16=True,\n",
        "    report_to=\"none\"\n",
        ")\n",
        "\n",
        "trainer = Trainer(\n",
        "    model=model,\n",
        "    args=training_args,\n",
        "    train_dataset=tokenized_dataset,\n",
        "    data_collator=data_collator\n",
        ")\n",
        "\n",
        "trainer.train()\n"
      ],
      "metadata": {
        "collapsed": true,
        "id": "DdurNa2r74qY"
      },
      "execution_count": null,
      "outputs": []
    },
    {
      "cell_type": "code",
      "source": [
        "# Modeli eval moduna alıyoruz\n",
        "model.eval()  # Modeli eval moduna al\n",
        "\n",
        "def hukuk_ai_cevapla(prompt):\n",
        "    inputs = tokenizer(prompt, return_tensors=\"pt\").to(\"cuda\")\n",
        "    outputs = model.generate(\n",
        "        **inputs,\n",
        "        max_new_tokens=200,\n",
        "        do_sample=True,\n",
        "        temperature=0.7,\n",
        "        top_k=50,\n",
        "        top_p=0.95\n",
        "    )\n",
        "    return tokenizer.decode(outputs[0], skip_special_tokens=True)\n",
        "\n",
        "soru = (\n",
        "    \"Soru: Türk Medeni Kanunu'na göre resmi evlilik için yasal yaş sınırı nedir?\\n\"\n",
        "    \"Lütfen yasal dayanağı ile birlikte açıklayıcı bir şekilde cevap ver.\\nCevap:\"\n",
        ")\n",
        "cevap = hukuk_ai_cevapla(soru)\n",
        "print(cevap)\n"
      ],
      "metadata": {
        "id": "0aOJ-n96_RbW"
      },
      "execution_count": null,
      "outputs": []
    }
  ],
  "metadata": {
    "colab": {
      "gpuType": "T4",
      "provenance": [],
      "include_colab_link": true
    },
    "kernelspec": {
      "display_name": "Python 3",
      "name": "python3"
    },
    "language_info": {
      "name": "python"
    },
    "accelerator": "GPU"
  },
  "nbformat": 4,
  "nbformat_minor": 0
}