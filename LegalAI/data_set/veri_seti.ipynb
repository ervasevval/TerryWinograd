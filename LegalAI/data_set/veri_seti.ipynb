{
 "cells": [
  {
   "cell_type": "code",
   "execution_count": null,
   "metadata": {
    "executionInfo": {
     "elapsed": 7,
     "status": "ok",
     "timestamp": 1743168841170,
     "user": {
      "displayName": "rukiye naz yazgan",
      "userId": "17940971195244191258"
     },
     "user_tz": -180
    },
    "id": "BgvLlk5e45ac"
   },
   "outputs": [],
   "source": [
    "import pandas as pd"
   ]
  },
  {
   "cell_type": "code",
   "execution_count": 4,
   "metadata": {
    "colab": {
     "base_uri": "https://localhost:8080/",
     "height": 206
    },
    "executionInfo": {
     "elapsed": 243,
     "status": "ok",
     "timestamp": 1743168976345,
     "user": {
      "displayName": "rukiye naz yazgan",
      "userId": "17940971195244191258"
     },
     "user_tz": -180
    },
    "id": "wFClqWQm47Ys",
    "outputId": "83c7b3f5-3c0f-4628-fa0f-9bd4dd57dc46"
   },
   "outputs": [
    {
     "data": {
      "text/html": [
       "<div>\n",
       "<style scoped>\n",
       "    .dataframe tbody tr th:only-of-type {\n",
       "        vertical-align: middle;\n",
       "    }\n",
       "\n",
       "    .dataframe tbody tr th {\n",
       "        vertical-align: top;\n",
       "    }\n",
       "\n",
       "    .dataframe thead th {\n",
       "        text-align: right;\n",
       "    }\n",
       "</style>\n",
       "<table border=\"1\" class=\"dataframe\">\n",
       "  <thead>\n",
       "    <tr style=\"text-align: right;\">\n",
       "      <th></th>\n",
       "      <th>soru</th>\n",
       "      <th>cevap</th>\n",
       "    </tr>\n",
       "  </thead>\n",
       "  <tbody>\n",
       "    <tr>\n",
       "      <th>0</th>\n",
       "      <td>Anayasa madde 1'e göre, türkiye'nin devlet şek...</td>\n",
       "      <td>Anayasa madde 1'e göre, türkiye'nin devlet şek...</td>\n",
       "    </tr>\n",
       "    <tr>\n",
       "      <th>1</th>\n",
       "      <td>Anayasa madde 1'de belirtilen cumhuriyetin tan...</td>\n",
       "      <td>Anayasa madde 1'de belirtilen cumhuriyet, halk...</td>\n",
       "    </tr>\n",
       "    <tr>\n",
       "      <th>2</th>\n",
       "      <td>Anayasa madde 1, cumhuriyetin ilan edilmesini ...</td>\n",
       "      <td>Anayasa madde 1, cumhuriyetin ilan edilmesini,...</td>\n",
       "    </tr>\n",
       "    <tr>\n",
       "      <th>3</th>\n",
       "      <td>Anayasa madde 1, cumhuriyetin hangi tarihte il...</td>\n",
       "      <td>Anayasa madde 1, türkiye cumhuriyeti'nin 29 ek...</td>\n",
       "    </tr>\n",
       "    <tr>\n",
       "      <th>4</th>\n",
       "      <td>Anayasa madde 1'e göre, cumhuriyetin temel öze...</td>\n",
       "      <td>Anayasa madde 1'e göre, cumhuriyetin temel öze...</td>\n",
       "    </tr>\n",
       "  </tbody>\n",
       "</table>\n",
       "</div>"
      ],
      "text/plain": [
       "                                                soru  \\\n",
       "0  Anayasa madde 1'e göre, türkiye'nin devlet şek...   \n",
       "1  Anayasa madde 1'de belirtilen cumhuriyetin tan...   \n",
       "2  Anayasa madde 1, cumhuriyetin ilan edilmesini ...   \n",
       "3  Anayasa madde 1, cumhuriyetin hangi tarihte il...   \n",
       "4  Anayasa madde 1'e göre, cumhuriyetin temel öze...   \n",
       "\n",
       "                                               cevap  \n",
       "0  Anayasa madde 1'e göre, türkiye'nin devlet şek...  \n",
       "1  Anayasa madde 1'de belirtilen cumhuriyet, halk...  \n",
       "2  Anayasa madde 1, cumhuriyetin ilan edilmesini,...  \n",
       "3  Anayasa madde 1, türkiye cumhuriyeti'nin 29 ek...  \n",
       "4  Anayasa madde 1'e göre, cumhuriyetin temel öze...  "
      ]
     },
     "execution_count": 4,
     "metadata": {},
     "output_type": "execute_result"
    }
   ],
   "source": [
    "df1=pd.read_json(\"lawtrain2.json\")\n",
    "df1.drop(columns=[\"input\"],inplace=True)\n",
    "df1.rename(columns={\"instruction\": \"soru\"}, inplace=True)\n",
    "df1.rename(columns={\"output\": \"cevap\"}, inplace=True)\n",
    "df1.head()"
   ]
  },
  {
   "cell_type": "code",
   "execution_count": 5,
   "metadata": {
    "colab": {
     "base_uri": "https://localhost:8080/",
     "height": 377
    },
    "executionInfo": {
     "elapsed": 76,
     "status": "ok",
     "timestamp": 1743169182786,
     "user": {
      "displayName": "rukiye naz yazgan",
      "userId": "17940971195244191258"
     },
     "user_tz": -180
    },
    "id": "-5Rppc736H6L",
    "outputId": "f61af441-9c7d-46c0-87b4-6f0aeaf34c49"
   },
   "outputs": [
    {
     "data": {
      "text/html": [
       "<div>\n",
       "<style scoped>\n",
       "    .dataframe tbody tr th:only-of-type {\n",
       "        vertical-align: middle;\n",
       "    }\n",
       "\n",
       "    .dataframe tbody tr th {\n",
       "        vertical-align: top;\n",
       "    }\n",
       "\n",
       "    .dataframe thead th {\n",
       "        text-align: right;\n",
       "    }\n",
       "</style>\n",
       "<table border=\"1\" class=\"dataframe\">\n",
       "  <thead>\n",
       "    <tr style=\"text-align: right;\">\n",
       "      <th></th>\n",
       "      <th>soru</th>\n",
       "      <th>cevap</th>\n",
       "    </tr>\n",
       "  </thead>\n",
       "  <tbody>\n",
       "    <tr>\n",
       "      <th>0</th>\n",
       "      <td>Anayasa madde 1'e göre, türkiye'nin devlet şek...</td>\n",
       "      <td>Anayasa madde 1'e göre, türkiye'nin devlet şek...</td>\n",
       "    </tr>\n",
       "    <tr>\n",
       "      <th>1</th>\n",
       "      <td>Anayasa madde 1'de belirtilen cumhuriyetin tan...</td>\n",
       "      <td>Anayasa madde 1'de belirtilen cumhuriyet, halk...</td>\n",
       "    </tr>\n",
       "    <tr>\n",
       "      <th>2</th>\n",
       "      <td>Anayasa madde 1, cumhuriyetin ilan edilmesini ...</td>\n",
       "      <td>Anayasa madde 1, cumhuriyetin ilan edilmesini,...</td>\n",
       "    </tr>\n",
       "    <tr>\n",
       "      <th>3</th>\n",
       "      <td>Anayasa madde 1, cumhuriyetin hangi tarihte il...</td>\n",
       "      <td>Anayasa madde 1, türkiye cumhuriyeti'nin 29 ek...</td>\n",
       "    </tr>\n",
       "    <tr>\n",
       "      <th>4</th>\n",
       "      <td>Anayasa madde 1'e göre, cumhuriyetin temel öze...</td>\n",
       "      <td>Anayasa madde 1'e göre, cumhuriyetin temel öze...</td>\n",
       "    </tr>\n",
       "  </tbody>\n",
       "</table>\n",
       "</div>"
      ],
      "text/plain": [
       "                                                soru  \\\n",
       "0  Anayasa madde 1'e göre, türkiye'nin devlet şek...   \n",
       "1  Anayasa madde 1'de belirtilen cumhuriyetin tan...   \n",
       "2  Anayasa madde 1, cumhuriyetin ilan edilmesini ...   \n",
       "3  Anayasa madde 1, cumhuriyetin hangi tarihte il...   \n",
       "4  Anayasa madde 1'e göre, cumhuriyetin temel öze...   \n",
       "\n",
       "                                               cevap  \n",
       "0  Anayasa madde 1'e göre, türkiye'nin devlet şek...  \n",
       "1  Anayasa madde 1'de belirtilen cumhuriyet, halk...  \n",
       "2  Anayasa madde 1, cumhuriyetin ilan edilmesini,...  \n",
       "3  Anayasa madde 1, türkiye cumhuriyeti'nin 29 ek...  \n",
       "4  Anayasa madde 1'e göre, cumhuriyetin temel öze...  "
      ]
     },
     "execution_count": 5,
     "metadata": {},
     "output_type": "execute_result"
    }
   ],
   "source": [
    "df2=pd.read_json(\"cleaned_train.json\")\n",
    "df_concat = pd.concat([df1, df2], ignore_index=True)\n",
    "df_concat.head()"
   ]
  },
  {
   "cell_type": "code",
   "execution_count": 6,
   "metadata": {
    "colab": {
     "base_uri": "https://localhost:8080/",
     "height": 363
    },
    "executionInfo": {
     "elapsed": 68,
     "status": "ok",
     "timestamp": 1743169278877,
     "user": {
      "displayName": "rukiye naz yazgan",
      "userId": "17940971195244191258"
     },
     "user_tz": -180
    },
    "id": "CRWAFNOA-7Ze",
    "outputId": "4470ab2c-4b6e-49ef-ef43-402fcc28ed6e"
   },
   "outputs": [
    {
     "data": {
      "text/html": [
       "<div>\n",
       "<style scoped>\n",
       "    .dataframe tbody tr th:only-of-type {\n",
       "        vertical-align: middle;\n",
       "    }\n",
       "\n",
       "    .dataframe tbody tr th {\n",
       "        vertical-align: top;\n",
       "    }\n",
       "\n",
       "    .dataframe thead th {\n",
       "        text-align: right;\n",
       "    }\n",
       "</style>\n",
       "<table border=\"1\" class=\"dataframe\">\n",
       "  <thead>\n",
       "    <tr style=\"text-align: right;\">\n",
       "      <th></th>\n",
       "      <th>soru</th>\n",
       "      <th>cevap</th>\n",
       "    </tr>\n",
       "  </thead>\n",
       "  <tbody>\n",
       "    <tr>\n",
       "      <th>15188</th>\n",
       "      <td>3361 sayılı Kanun ne zaman halkoylamasına sunu...</td>\n",
       "      <td>3361 sayılı Kanun, 6 Eylül 1987 tarihinde halk...</td>\n",
       "    </tr>\n",
       "    <tr>\n",
       "      <th>15189</th>\n",
       "      <td>3913 sayılı Kanun ile Anayasada yapılan değişi...</td>\n",
       "      <td>3913 sayılı Kanun ile Anayasada yapılan değişi...</td>\n",
       "    </tr>\n",
       "    <tr>\n",
       "      <th>15190</th>\n",
       "      <td>4388 sayılı Kanun ile Anayasada yapılan değişi...</td>\n",
       "      <td>4388 sayılı Kanun ile Anayasada yapılan değişi...</td>\n",
       "    </tr>\n",
       "    <tr>\n",
       "      <th>15191</th>\n",
       "      <td>5170 sayılı Kanun ile Anayasada yapılan değişi...</td>\n",
       "      <td>5170 sayılı Kanun ile Anayasada yapılan değişi...</td>\n",
       "    </tr>\n",
       "    <tr>\n",
       "      <th>15192</th>\n",
       "      <td>5370 sayılı Kanun ile Anayasada yapılan değişi...</td>\n",
       "      <td>5370 sayılı Kanun ile Anayasada yapılan değişi...</td>\n",
       "    </tr>\n",
       "    <tr>\n",
       "      <th>15193</th>\n",
       "      <td>5428 sayılı Kanun ile Anayasada yapılan değişi...</td>\n",
       "      <td>5428 sayılı Kanun ile Anayasada yapılan değişi...</td>\n",
       "    </tr>\n",
       "    <tr>\n",
       "      <th>15194</th>\n",
       "      <td>5551 sayılı Kanun ile Anayasada yapılan değişi...</td>\n",
       "      <td>5551 sayılı Kanun ile Anayasada yapılan değişi...</td>\n",
       "    </tr>\n",
       "    <tr>\n",
       "      <th>15195</th>\n",
       "      <td>5659 sayılı Kanun ile Anayasada yapılan değişi...</td>\n",
       "      <td>5659 sayılı Kanun ile Anayasada yapılan değişi...</td>\n",
       "    </tr>\n",
       "    <tr>\n",
       "      <th>15196</th>\n",
       "      <td>5735 sayılı Kanun ile Anayasada yapılan değişi...</td>\n",
       "      <td>5735 sayılı Kanun ile Anayasada yapılan değişi...</td>\n",
       "    </tr>\n",
       "    <tr>\n",
       "      <th>15197</th>\n",
       "      <td>Anayasa Mahkemesinin 5 Haziran 2008 tarihli ve...</td>\n",
       "      <td>Anayasa Mahkemesinin 5 Haziran 2008 tarihli ve...</td>\n",
       "    </tr>\n",
       "  </tbody>\n",
       "</table>\n",
       "</div>"
      ],
      "text/plain": [
       "                                                    soru  \\\n",
       "15188  3361 sayılı Kanun ne zaman halkoylamasına sunu...   \n",
       "15189  3913 sayılı Kanun ile Anayasada yapılan değişi...   \n",
       "15190  4388 sayılı Kanun ile Anayasada yapılan değişi...   \n",
       "15191  5170 sayılı Kanun ile Anayasada yapılan değişi...   \n",
       "15192  5370 sayılı Kanun ile Anayasada yapılan değişi...   \n",
       "15193  5428 sayılı Kanun ile Anayasada yapılan değişi...   \n",
       "15194  5551 sayılı Kanun ile Anayasada yapılan değişi...   \n",
       "15195  5659 sayılı Kanun ile Anayasada yapılan değişi...   \n",
       "15196  5735 sayılı Kanun ile Anayasada yapılan değişi...   \n",
       "15197  Anayasa Mahkemesinin 5 Haziran 2008 tarihli ve...   \n",
       "\n",
       "                                                   cevap  \n",
       "15188  3361 sayılı Kanun, 6 Eylül 1987 tarihinde halk...  \n",
       "15189  3913 sayılı Kanun ile Anayasada yapılan değişi...  \n",
       "15190  4388 sayılı Kanun ile Anayasada yapılan değişi...  \n",
       "15191  5170 sayılı Kanun ile Anayasada yapılan değişi...  \n",
       "15192  5370 sayılı Kanun ile Anayasada yapılan değişi...  \n",
       "15193  5428 sayılı Kanun ile Anayasada yapılan değişi...  \n",
       "15194  5551 sayılı Kanun ile Anayasada yapılan değişi...  \n",
       "15195  5659 sayılı Kanun ile Anayasada yapılan değişi...  \n",
       "15196  5735 sayılı Kanun ile Anayasada yapılan değişi...  \n",
       "15197  Anayasa Mahkemesinin 5 Haziran 2008 tarihli ve...  "
      ]
     },
     "execution_count": 6,
     "metadata": {},
     "output_type": "execute_result"
    }
   ],
   "source": [
    "# prompt: df_concat veri çerçevesi kullanılıyor: son veri\n",
    "\n",
    "# Display first 10 rows of the dataframe\n",
    "df_concat.tail(10)\n"
   ]
  },
  {
   "cell_type": "code",
   "execution_count": null,
   "metadata": {
    "id": "YEYek_o3-O38"
   },
   "outputs": [],
   "source": []
  }
 ],
 "metadata": {
  "colab": {
   "authorship_tag": "ABX9TyMWygjCm0j9KzEwg2sehzhu",
   "provenance": []
  },
  "kernelspec": {
   "display_name": "Python 3",
   "name": "python3"
  },
  "language_info": {
   "codemirror_mode": {
    "name": "ipython",
    "version": 3
   },
   "file_extension": ".py",
   "mimetype": "text/x-python",
   "name": "python",
   "nbconvert_exporter": "python",
   "pygments_lexer": "ipython3",
   "version": "3.12.6"
  }
 },
 "nbformat": 4,
 "nbformat_minor": 0
}
